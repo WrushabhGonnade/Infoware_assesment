{
 "cells": [
  {
   "cell_type": "code",
   "execution_count": 46,
   "id": "ba9bc7fe",
   "metadata": {},
   "outputs": [
    {
     "name": "stdout",
     "output_type": "stream",
     "text": [
      "Top 10 Gainers are: \n",
      "['HDFCLIFE', 'ADANIPORTS', 'EICHERMOT', 'BPCL', 'MARUTI', 'TATAMOTORS', 'M&M', 'ASIANPAINT', 'HEROMOTOCO', 'TATACONSUM']\n",
      "--------------------------------------------------------------------------------------------------------------\n",
      "Top 10 Loosers are: \n",
      "['MUTHOOTFIN', 'MANAPPURAM', 'METROPOLIS', 'GRASIM', 'HINDALCO', 'PVR', 'ZEEL', 'AUROPHARMA', 'BHARATFORG', 'BANKBARODA']\n"
     ]
    }
   ],
   "source": [
    "# Q1) \n",
    "nse=\"https://www.nseindia.com/market-data/top-gainers-loosers\"\n",
    "from nsetools import Nse\n",
    "from pprint import pprint\n",
    "nse=Nse()\n",
    "Gainers=nse.get_top_gainers()\n",
    "Loosers=nse.get_top_fno_losers()\n",
    "gainers=[]\n",
    "loosers=[]\n",
    "for i in range(10):\n",
    "    gain=Gainers[i]['symbol']\n",
    "    gainers.append(gain)\n",
    "    loose=Loosers[i]['symbol']\n",
    "    loosers.append(loose)\n",
    "print('Top 10 Gainers are: ')\n",
    "print(gainers)\n",
    "print('-'*110)\n",
    "print('Top 10 Loosers are: ')\n",
    "print(loosers)\n"
   ]
  },
  {
   "cell_type": "code",
   "execution_count": 47,
   "id": "e25924cb",
   "metadata": {},
   "outputs": [
    {
     "name": "stdout",
     "output_type": "stream",
     "text": [
      "HDFCLIFE.NS\n",
      "[*********************100%***********************]  1 of 1 completed\n",
      "ADANIPORTS.NS\n",
      "[*********************100%***********************]  1 of 1 completed\n",
      "EICHERMOT.NS\n",
      "[*********************100%***********************]  1 of 1 completed\n",
      "BPCL.NS\n",
      "[*********************100%***********************]  1 of 1 completed\n",
      "MARUTI.NS\n",
      "[*********************100%***********************]  1 of 1 completed\n",
      "TATAMOTORS.NS\n",
      "[*********************100%***********************]  1 of 1 completed\n",
      "M&M.NS\n",
      "[*********************100%***********************]  1 of 1 completed\n",
      "ASIANPAINT.NS\n",
      "[*********************100%***********************]  1 of 1 completed\n",
      "HEROMOTOCO.NS\n",
      "[*********************100%***********************]  1 of 1 completed\n",
      "TATACONSUM.NS\n",
      "[*********************100%***********************]  1 of 1 completed\n"
     ]
    }
   ],
   "source": [
    "# For Gainers\n",
    "import os\n",
    "import yfinance as yf\n",
    "import matplotlib.pyplot as plt\n",
    "from datetime import datetime\n",
    "os.chdir('/Users/mac/Downloads/Infoware Data/Stocks Data/Gainers')\n",
    "start = \"2015-01-01\"\n",
    "#end = '2022-1-01'\n",
    "end=datetime.today().strftime('%Y-%m-%d')\n",
    "for i in range(10):\n",
    "    st=gainers[i]+'.NS'\n",
    "    print(st)\n",
    "    s=yf.download(st,start,end)\n",
    "    s.to_csv(('{}'+'.csv').format(gainers[i]))# For saving data of each 10 stocks to local machine\n",
    "    \n",
    "    \n",
    "    \n",
    "    \n",
    "#st=gainers[1]+'.NS'\n",
    "#print(st)\n",
    "#s=yf.download(st,start,end)\n"
   ]
  },
  {
   "cell_type": "code",
   "execution_count": 48,
   "id": "488a1aec",
   "metadata": {},
   "outputs": [
    {
     "name": "stdout",
     "output_type": "stream",
     "text": [
      "MUTHOOTFIN.NS\n",
      "[*********************100%***********************]  1 of 1 completed\n",
      "MANAPPURAM.NS\n",
      "[*********************100%***********************]  1 of 1 completed\n",
      "METROPOLIS.NS\n",
      "[*********************100%***********************]  1 of 1 completed\n",
      "GRASIM.NS\n",
      "[*********************100%***********************]  1 of 1 completed\n",
      "HINDALCO.NS\n",
      "[*********************100%***********************]  1 of 1 completed\n",
      "PVR.NS\n",
      "[*********************100%***********************]  1 of 1 completed\n",
      "ZEEL.NS\n",
      "[*********************100%***********************]  1 of 1 completed\n",
      "AUROPHARMA.NS\n",
      "[*********************100%***********************]  1 of 1 completed\n",
      "BHARATFORG.NS\n",
      "[*********************100%***********************]  1 of 1 completed\n",
      "BANKBARODA.NS\n",
      "[*********************100%***********************]  1 of 1 completed\n"
     ]
    }
   ],
   "source": [
    "# For Loosers\n",
    "import os\n",
    "import yfinance as yf\n",
    "import matplotlib.pyplot as plt\n",
    "from datetime import datetime\n",
    "os.chdir('/Users/mac/Downloads/Infoware Data/Stocks Data/Loosers')\n",
    "start = \"2015-01-01\"\n",
    "#end = '2022-1-01'\n",
    "end=datetime.today().strftime('%Y-%m-%d')\n",
    "for i in range(10):\n",
    "    st=loosers[i]+'.NS'\n",
    "    print(st)\n",
    "    s=yf.download(st,start,end)\n",
    "    s.to_csv(('{}'+'.csv').format(loosers[i])) # For saving data of each 10 stocks to local machine"
   ]
  },
  {
   "cell_type": "code",
   "execution_count": null,
   "id": "7efd1dd2",
   "metadata": {},
   "outputs": [],
   "source": []
  }
 ],
 "metadata": {
  "kernelspec": {
   "display_name": "Python 3 (ipykernel)",
   "language": "python",
   "name": "python3"
  },
  "language_info": {
   "codemirror_mode": {
    "name": "ipython",
    "version": 3
   },
   "file_extension": ".py",
   "mimetype": "text/x-python",
   "name": "python",
   "nbconvert_exporter": "python",
   "pygments_lexer": "ipython3",
   "version": "3.9.12"
  }
 },
 "nbformat": 4,
 "nbformat_minor": 5
}
